{
 "cells": [
  {
   "cell_type": "code",
   "execution_count": 4,
   "metadata": {},
   "outputs": [],
   "source": [
    "import tensorflow as tf\n",
    "import os\n",
    "import shutil\n",
    "import random\n",
    "from tensorflow.keras.preprocessing.image import ImageDataGenerator"
   ]
  },
  {
   "cell_type": "code",
   "execution_count": 2,
   "metadata": {},
   "outputs": [
    {
     "name": "stdout",
     "output_type": "stream",
     "text": [
      "Test set created in d:\\VSCode_Project\\Tomatoes\\test_set with 10 images per class.\n"
     ]
    }
   ],
   "source": [
    "# Set the dataset directory to the PlantVillage folder\n",
    "dataset_dir = os.path.join(os.getcwd(), 'PlantVillage')\n",
    "test_dir = os.path.join(os.getcwd(), 'test_set')  # Specify the test directory\n",
    "\n",
    "def create_test_set(dataset_dir, test_dir, num_images_per_class=100):\n",
    "    # Create the test directory if it doesn't exist\n",
    "    if not os.path.exists(test_dir):\n",
    "        os.makedirs(test_dir)\n",
    "\n",
    "    # Loop through each class in the dataset directory\n",
    "    for class_folder in os.listdir(dataset_dir):\n",
    "        class_path = os.path.join(dataset_dir, class_folder)\n",
    "        \n",
    "        # Create corresponding class directory in the test directory\n",
    "        test_class_path = os.path.join(test_dir, class_folder)\n",
    "        if not os.path.exists(test_class_path):\n",
    "            os.makedirs(test_class_path)\n",
    "\n",
    "        # List all image files in the class directory\n",
    "        images = os.listdir(class_path)\n",
    "        \n",
    "        # Randomly select a subset of images to move to the test directory\n",
    "        if len(images) > num_images_per_class:\n",
    "            test_images = random.sample(images, num_images_per_class)\n",
    "        else:\n",
    "            test_images = images  # Take all if fewer than the specified number\n",
    "\n",
    "        for image in test_images:\n",
    "            image_path = os.path.join(class_path, image)\n",
    "            # Move image to the test directory\n",
    "            shutil.move(image_path, os.path.join(test_class_path, image))\n",
    "\n",
    "    print(f'Test set created in {test_dir} with {num_images_per_class} images per class.')\n",
    "\n",
    "# Create the test set (uncomment the next line to run it once)\n",
    "create_test_set(dataset_dir, test_dir, num_images_per_class=10)\n"
   ]
  },
  {
   "cell_type": "code",
   "execution_count": 3,
   "metadata": {},
   "outputs": [
    {
     "name": "stdout",
     "output_type": "stream",
     "text": [
      "Found 100 images belonging to 10 classes.\n"
     ]
    }
   ],
   "source": [
    "# create_test_set(dataset_dir, test_dir, num_images_per_class=10)\n",
    "\n",
    "# Create an instance of the ImageDataGenerator for testing\n",
    "test_data_generator = ImageDataGenerator(rescale=1.0/255)\n",
    "\n",
    "# Load the test dataset using the ImageDataGenerator\n",
    "test_dataset = test_data_generator.flow_from_directory(\n",
    "    test_dir,\n",
    "    target_size=(224, 224),\n",
    "    batch_size=32,\n",
    "    class_mode='categorical',\n",
    "    shuffle=False  # No need to shuffle test data\n",
    ")"
   ]
  },
  {
   "cell_type": "code",
   "execution_count": null,
   "metadata": {},
   "outputs": [],
   "source": [
    "# Load the saved model\n",
    "model = tf.keras.models.load_model('model.keras')\n",
    "\n",
    "# Evaluate the model on the test dataset\n",
    "loss, accuracy = model.evaluate(test_dataset)\n",
    "print('Test Accuracy: {:.2f}%'.format(accuracy*100))\n",
    "print('Test Loss: {:.2f}%'.format(loss*100))"
   ]
  }
 ],
 "metadata": {
  "kernelspec": {
   "display_name": "Python 3",
   "language": "python",
   "name": "python3"
  },
  "language_info": {
   "codemirror_mode": {
    "name": "ipython",
    "version": 3
   },
   "file_extension": ".py",
   "mimetype": "text/x-python",
   "name": "python",
   "nbconvert_exporter": "python",
   "pygments_lexer": "ipython3",
   "version": "3.12.4"
  }
 },
 "nbformat": 4,
 "nbformat_minor": 2
}
